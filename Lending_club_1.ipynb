{
 "cells": [
  {
   "cell_type": "code",
   "execution_count": null,
   "id": "4388e448",
   "metadata": {},
   "outputs": [],
   "source": [
    "import pandas as pd\n",
    "import random\n",
    "import numpy as np\n",
    "\n",
    "#visual library\n",
    "import matplotlib.pyplot as plt\n",
    "import seaborn as sns\n",
    "import plotly.express as px\n",
    "from plotly.offline import download_plotlyjs, init_notebook_mode, plot, iplot\n",
    "init_notebook_mode(connected=True)\n",
    "from plotly.subplots import make_subplots\n",
    "import plotly.graph_objects as go\n",
    "import cufflinks as cf\n",
    "cf.go_offline()\n",
    "\n",
    "pd.set_option('display.max_rows', None)\n",
    "pd.set_option('display.max_columns', None)\n",
    "pd.set_option('display.width', None)\n",
    "pd.set_option('display.max_colwidth', None)"
   ]
  },
  {
   "cell_type": "code",
   "execution_count": null,
   "id": "856446b7",
   "metadata": {},
   "outputs": [],
   "source": [
    "# importing Lending club data from csv file\n",
    "loan_data = pd.read_csv(\"loan_data.csv\",index_col=0)"
   ]
  },
  {
   "attachments": {},
   "cell_type": "markdown",
   "id": "176753df",
   "metadata": {},
   "source": [
    "## Feature Description"
   ]
  },
  {
   "attachments": {},
   "cell_type": "markdown",
   "id": "e085a956",
   "metadata": {},
   "source": [
    "|    | LoanStatNew          | Description                                                                                                                                                                                              |\n",
    "|---:|:---------------------|:---------------------------------------------------------------------------------------------------------------------------------------------------------------------------------------------------------|\n",
    "|  0 | addr_state           | The state provided by the borrower in the loan application                                                                                                                                               |\n",
    "|  1 | annual_inc           | The self-reported annual income provided by the borrower during registration.                                                                                                                            |\n",
    "|  2 | application_type     | Indicates whether the loan is an individual application or a joint application with two co-borrowers                                                                                                     |\n",
    "|  3 | dti                  | A ratio calculated using the borrower’s total monthly debt payments on the total debt obligations, excluding mortgage and the requested LC loan, divided by the borrower’s self-reported monthly income. |\n",
    "|  4 | earliest_cr_line     | The month the borrower's earliest reported credit line was opened                                                                                                                                        |\n",
    "|  5 | emp_length           | Employment length in years. Possible values are between 0 and 10 where 0 means less than one year and 10 means ten or more years.                                                                        |\n",
    "|  6 | emp_title            | The job title supplied by the Borrower when applying for the loan.*                                                                                                                                      |\n",
    "|  7 | fico_range_high      | The upper boundary range the borrower’s FICO at loan origination belongs to.                                                                                                                             |\n",
    "|  8 | fico_range_low       | The lower boundary range the borrower’s FICO at loan origination belongs to.                                                                                                                             |\n",
    "|  9 | funded_amnt          | The total amount committed to that loan at that point in time.                                                                                                                                           |\n",
    "| 10 | funded_amnt_inv      | The total amount committed by investors for that loan at that point in time.                                                                                                                             |\n",
    "| 11 | grade                | LC assigned loan grade                                                                                                                                                                                   |\n",
    "| 12 | home_ownership       | The home ownership status provided by the borrower during registration or obtained from the credit report. Our values are: RENT, OWN, MORTGAGE, OTHER                                                    |\n",
    "| 13 | id                   | A unique LC assigned ID for the loan listing.                                                                                                                                                            |\n",
    "| 14 | initial_list_status  | The initial listing status of the loan. Possible values are – W, F                                                                                                                                       |\n",
    "| 15 | installment          | The monthly payment owed by the borrower if the loan originates.                                                                                                                                         |\n",
    "| 16 | int_rate             | Interest Rate on the loan                                                                                                                                                                                |\n",
    "| 17 | issue_d              | The month which the loan was funded                                                                                                                                                                      |\n",
    "| 18 | loan_amnt            | The listed amount of the loan applied for by the borrower. If at some point in time, the credit department reduces the loan amount, then it will be reflected in this value.                             |\n",
    "| 19 | loan_status          | Current status of the loan                                                                                                                                                                               |\n",
    "| 20 | mort_acc             | Number of mortgage accounts.                                                                                                                                                                             |\n",
    "| 21 | open_acc             | The number of open credit lines in the borrower's credit file.                                                                                                                                           |\n",
    "| 22 | pub_rec_bankruptcies | Number of public record bankruptcies                                                                                                                                                                     |\n",
    "| 23 | purpose              | A category provided by the borrower for the loan request.                                                                                                                                                |\n",
    "| 24 | revol_bal            | Total credit revolving balance                                                                                                                                                                           |\n",
    "| 25 | revol_util           | Revolving line utilization rate, or the amount of credit the borrower is using relative to all available revolving credit.                                                                               |\n",
    "| 26 | sub_grade            | LC assigned loan subgrade                                                                                                                                                                                |\n",
    "| 27 | term                 | The number of payments on the loan. Values are in months and can be either 36 or 60.                                                                                                                     |\n",
    "| 28 | title                | The loan title provided by the borrower                                                                                                                                                                  |\n",
    "| 29 | total_acc            | The total number of credit lines currently in the borrower's credit file                                                                                                                                 |\n",
    "| 30 | verification_status  | Indicates if income was verified by LC, not verified, or if the income source was verified                                                                                                               |\n",
    "| 31 | zip_code             | The first 3 numbers of the zip code provided by the borrower in the loan application.                                                                                                                    |"
   ]
  },
  {
   "cell_type": "code",
   "execution_count": null,
   "id": "026666ca",
   "metadata": {},
   "outputs": [],
   "source": [
    "loan_data.info(memory_usage = 'deep')"
   ]
  },
  {
   "cell_type": "code",
   "execution_count": null,
   "id": "1ce696b0-767c-4d08-86c9-8e978b272da7",
   "metadata": {},
   "outputs": [],
   "source": [
    "## peeking at df\n",
    "loan_data.head()"
   ]
  },
  {
   "cell_type": "code",
   "execution_count": null,
   "id": "85f86487",
   "metadata": {},
   "outputs": [],
   "source": [
    "### dowcasting to save memory\n",
    "def convert_columns_to_catg(df, column_list):\n",
    "    for col in column_list:\n",
    "        print(\"converting\", col.ljust(30), \"size: \", round(df[col].memory_usage(deep=True)*1e-6,2), end=\"\\t\")\n",
    "        df[col] = df[col].astype(\"category\")\n",
    "        print(\"->\\t\", round(df[col].memory_usage(deep=True)*1e-6,2))"
   ]
  },
  {
   "cell_type": "code",
   "execution_count": null,
   "id": "1ccf4701",
   "metadata": {},
   "outputs": [],
   "source": [
    "convert_columns_to_catg(loan_data, ['grade','sub_grade','emp_title','home_ownership','verification_status','loan_status',\n",
    "                                   'purpose','title','zip_code','addr_state','initial_list_status','application_type','emp_length'])"
   ]
  },
  {
   "cell_type": "code",
   "execution_count": null,
   "id": "d1ce9bd2",
   "metadata": {},
   "outputs": [],
   "source": [
    "import gc\n",
    "\n",
    "def downcast_df_float_columns(df):\n",
    "    list_of_columns = list(df.select_dtypes(include=[\"float64\"]).columns)\n",
    "        \n",
    "    if len(list_of_columns)>=1:\n",
    "        max_string_length = max([len(col) for col in list_of_columns]) # finds max string length for better status printing\n",
    "        print(\"downcasting float for:\", list_of_columns, \"\\n\")\n",
    "        \n",
    "        for col in list_of_columns:\n",
    "            print(\"reduced memory usage for:  \", col.ljust(max_string_length+2)[:max_string_length+2],\n",
    "                  \"from\", str(round(df[col].memory_usage(deep=True)*1e-6,2)).rjust(8), \"to\", end=\" \")\n",
    "            df[col] = pd.to_numeric(df[col], downcast=\"float\")\n",
    "            print(str(round(df[col].memory_usage(deep=True)*1e-6,2)).rjust(8))\n",
    "    else:\n",
    "        print(\"no columns to downcast\")\n",
    "    \n",
    "    gc.collect()\n",
    "    \n",
    "    print(\"done\")"
   ]
  },
  {
   "cell_type": "code",
   "execution_count": null,
   "id": "001480b1",
   "metadata": {},
   "outputs": [],
   "source": [
    "downcast_df_float_columns(loan_data)"
   ]
  },
  {
   "cell_type": "code",
   "execution_count": null,
   "id": "b2ef971b",
   "metadata": {},
   "outputs": [],
   "source": [
    "loan_data.info(memory_usage = \"deep\")"
   ]
  },
  {
   "cell_type": "code",
   "execution_count": null,
   "id": "891d7095",
   "metadata": {},
   "outputs": [],
   "source": [
    "loan_data.describe()"
   ]
  },
  {
   "cell_type": "code",
   "execution_count": null,
   "id": "785bc22f",
   "metadata": {},
   "outputs": [],
   "source": [
    "## checking for missing values\n",
    "# function to show percentage of null values-\n",
    "def null_values(df):\n",
    "        mis_val = df.isnull().sum()\n",
    "        mis_val_percent = 100 * df.isnull().sum() / len(df)\n",
    "        mis_val_table = pd.concat([mis_val, mis_val_percent], axis=1)\n",
    "        mis_val_table_ren_columns = mis_val_table.rename(\n",
    "        columns = {0 : 'Missing Values', 1 : '% of Total Values'})\n",
    "        mis_val_table_ren_columns = mis_val_table_ren_columns[\n",
    "            mis_val_table_ren_columns.iloc[:,1] != 0].sort_values(\n",
    "        '% of Total Values', ascending=False).round(1)\n",
    "        print (\"Dataframe has \" + str(df.shape[1]) + \" columns.\\n\"      \n",
    "            \"There are \" + str(mis_val_table_ren_columns.shape[0]) +\n",
    "              \" columns that have missing values.\")\n",
    "        return mis_val_table_ren_columns"
   ]
  },
  {
   "cell_type": "code",
   "execution_count": null,
   "id": "9876e811",
   "metadata": {},
   "outputs": [],
   "source": [
    "null_df = null_values(loan_data)\n",
    "print(null_df)\n",
    "del null_df\n",
    "gc.collect"
   ]
  },
  {
   "attachments": {},
   "cell_type": "markdown",
   "id": "462044ca-8a23-4d8e-9a8b-c071dc50ef5a",
   "metadata": {},
   "source": [
    "import dtale\n",
    "import dtale.app as eda\n",
    "eda.show(loan_data)"
   ]
  },
  {
   "cell_type": "code",
   "execution_count": null,
   "id": "d57668b2",
   "metadata": {},
   "outputs": [],
   "source": [
    "gc.collect()"
   ]
  },
  {
   "cell_type": "code",
   "execution_count": null,
   "id": "ffda87d2",
   "metadata": {},
   "outputs": [],
   "source": [
    "#Function that will return the value count and frequency of each observation within a feature\n",
    "def value_count_norm_cal(df,feature):\n",
    "    value_count = df[feature].value_counts()\n",
    "    value_count_norm = df[feature].value_counts(normalize=True) * 100\n",
    "    value_count_concat = pd.concat([value_count, value_count_norm], axis=1)\n",
    "    value_count_concat.columns = ['Count', 'Frequency (%)']\n",
    "    return value_count_concat"
   ]
  },
  {
   "cell_type": "code",
   "execution_count": null,
   "id": "35cf4056",
   "metadata": {},
   "outputs": [],
   "source": [
    "#generating target columns\n",
    "loan_data[\"loan_status\"] = loan_data[\"loan_status\"].apply(lambda x: \"Default\" \n",
    "                                                          if x in [\"Charged Off\", \"Default\"]\n",
    "                                                          else \"Fully Paid\")\n",
    "gc.collect()"
   ]
  },
  {
   "cell_type": "code",
   "execution_count": null,
   "id": "a64817ca",
   "metadata": {},
   "outputs": [],
   "source": [
    "#function to explore features\n",
    "def feature_exploration (df,feature,numeric):\n",
    "    if numeric :\n",
    "            print('Description:\\n{}'.format((np.abs(df[feature])).describe()))\n",
    "            print('*'*50)\n",
    "            print('Object type:{}'.format(df[feature].dtype))\n",
    "    else:\n",
    "        print('Description:\\n{}'.format(df[feature].describe()))\n",
    "        print('*'*50)\n",
    "        print('Object type:\\n{}'.format(df[feature].dtype))\n",
    "        print('*'*50)\n",
    "        value_cnt = value_count_norm_cal(df,feature)\n",
    "        print('Value count:\\n{}'.format(value_cnt))\n",
    "##default rates vs cat_cols\n",
    "def Cat_col_vs_default_rate (df,col_name,feature,title):\n",
    "    Default_rates = df.groupby(col_name)[feature].value_counts(dropna=True,normalize=True).round(2).loc[:,'Default']\n",
    "    fig = px.histogram(Default_rates, x=Default_rates.index,y = Default_rates.values,\n",
    "                   color = Default_rates.index,title=title,labels={'y':'Default_rates(%)'})\n",
    "    return fig.show()\n",
    "\n",
    "#box plot function-\n",
    "\n",
    "def box_plot (df,feature):\n",
    "    f, ax = plt.subplots(figsize=(15,3))\n",
    "    sns.boxplot(x=df[feature])\n",
    "    ax.set_xlabel('Count')\n",
    "    ax.set_title('{} distribution(Boxplot)'.format(feature))\n",
    "    return plt.show()\n",
    "\n",
    "#pie chart function\n",
    "def pie_plot (df,feature,title):\n",
    "    pie_df = value_count_norm_cal(df,feature)\n",
    "    fig = px.pie(pie_df, values='Count', names = pie_df.index, title=title)\n",
    "    fig.update_traces(textposition='inside',hoverinfo='label+percent')\n",
    "    gc.collect()\n",
    "    return fig.show() \n",
    "\n",
    "#distribution plot function\n",
    "def dist_plot(df,feature):\n",
    "    f, (ax1,ax2) = plt.subplots(figsize=(11, 7),nrows=2, ncols=1,gridspec_kw={'height_ratios': [2,1]})\n",
    "    sns.set_theme(style=\"darkgrid\")\n",
    "    sns.histplot(df[feature], kde=False,ax=ax1)\n",
    "    ax1.set_xlabel(feature)\n",
    "    ax1.set_ylabel('Count')\n",
    "    ax1.set_title('{} distribution(Histogram)'.format(feature))\n",
    "#box_plot\n",
    "    sns.boxplot(x=df[feature],y =df['loan_status'],ax=ax2) \n",
    "    ax2.xaxis.grid(True)\n",
    "    ax2.set(ylabel=\"Loan_statues\")\n",
    "    sns.despine(trim=True, left=True)\n",
    "    return plt.show()\n",
    "#Count_plot functions\n",
    "def count_in_order_plot (df,feature,title,order) :\n",
    "    fig = px.histogram(df, x=feature,color=feature,title=title,\n",
    "                       category_orders=order)\n",
    "    return fig.show()\n",
    "def count_plot (df,feature,title) :\n",
    "    fig = px.histogram(df.loc[df[feature].notnull(),feature],x=feature,color = feature ,title=title)\n",
    "    return fig.show()"
   ]
  },
  {
   "attachments": {},
   "cell_type": "markdown",
   "id": "aa7da6bc",
   "metadata": {},
   "source": [
    "## Univariate analysis"
   ]
  },
  {
   "attachments": {},
   "cell_type": "markdown",
   "id": "61b4ce72-e0d4-4917-96a3-0ce29ece8d5a",
   "metadata": {},
   "source": [
    "### loan_status"
   ]
  },
  {
   "cell_type": "code",
   "execution_count": null,
   "id": "790044c3-e6c2-4625-a55b-7a59f83f808e",
   "metadata": {},
   "outputs": [],
   "source": [
    "feature_exploration (loan_data,'loan_status',numeric = False)"
   ]
  },
  {
   "cell_type": "code",
   "execution_count": null,
   "id": "bd764132-f996-4d7e-a573-8045b9828786",
   "metadata": {},
   "outputs": [],
   "source": [
    "pie_plot (loan_data,'loan_status','loan_status_distribution')"
   ]
  },
  {
   "cell_type": "code",
   "execution_count": null,
   "id": "e7d368ff-a1a9-4a44-b921-8dd2a2c3c392",
   "metadata": {},
   "outputs": [],
   "source": [
    "count_plot (loan_data,\"loan_status\",\"loan_status_count\") "
   ]
  },
  {
   "attachments": {},
   "cell_type": "markdown",
   "id": "2a5ec258-08a9-4843-9902-a5a24c265826",
   "metadata": {},
   "source": [
    "* data set is inballanced \n"
   ]
  },
  {
   "attachments": {},
   "cell_type": "markdown",
   "id": "a5437c45",
   "metadata": {},
   "source": [
    "### ID"
   ]
  },
  {
   "cell_type": "code",
   "execution_count": null,
   "id": "79802588",
   "metadata": {},
   "outputs": [],
   "source": [
    "# chicking is all values are unique.\n",
    "print(loan_data['id'].describe())\n",
    "print('*'*50)\n",
    "print('Unique variables:',loan_data['id'].nunique())"
   ]
  },
  {
   "attachments": {},
   "cell_type": "markdown",
   "id": "0d3610be",
   "metadata": {},
   "source": [
    "* They are all distinctive, yes. We exclude the ID since it is not useful for modelling, either as a categorical variable (there are too many distinct values) or a numerical variable (the magnitudes of the IDs vary greatly, probably without any importance)."
   ]
  },
  {
   "cell_type": "code",
   "execution_count": null,
   "id": "3f61a757",
   "metadata": {},
   "outputs": [],
   "source": [
    "#Creating empty drop list to collect drop features.\n",
    "\n",
    "drop_feature = []\n",
    "drop_feature.append(\"id\")"
   ]
  },
  {
   "attachments": {},
   "cell_type": "markdown",
   "id": "f1996d10",
   "metadata": {},
   "source": [
    "### Loan_amnt , Funded ,Invested"
   ]
  },
  {
   "cell_type": "code",
   "execution_count": null,
   "id": "bb2ed168",
   "metadata": {},
   "outputs": [],
   "source": [
    "from plotly.subplots import make_subplots\n",
    "import plotly.graph_objects as go\n",
    "\n",
    "# checking distribution of loan_mount\n",
    "loan_amount = loan_data[\"loan_amnt\"].values\n",
    "funded_amount = loan_data[\"funded_amnt\"].values\n",
    "investor_funds = loan_data[\"funded_amnt_inv\"].values\n",
    "\n",
    "fig = make_subplots(\n",
    "    rows=1, cols=3,\n",
    "    subplot_titles=(\"Loan_amoun_applide\", \"loan_amount_funded\", \"loan_amount_Invested\",))\n",
    "\n",
    "fig.add_trace(go.Histogram(x=loan_amount),\n",
    "              row=1, col=1)\n",
    "\n",
    "fig.add_trace(go.Histogram(x=funded_amount),\n",
    "              row=1, col=2)\n",
    "\n",
    "fig.add_trace(go.Histogram(x=investor_funds),\n",
    "              row=1, col=3)\n",
    "\n",
    "fig.update_layout(title_text=\"Loan_Distribution\")\n",
    "\n",
    "fig.show()\n"
   ]
  },
  {
   "attachments": {},
   "cell_type": "markdown",
   "id": "2e089e24",
   "metadata": {},
   "source": [
    "* as we can see from the above loan_distribution all of them have similer distribution and vales so only loan_amount will be used.\n"
   ]
  },
  {
   "cell_type": "code",
   "execution_count": null,
   "id": "93305d40",
   "metadata": {},
   "outputs": [],
   "source": [
    "#adding to drop list\n",
    "drop_feature.extend(['loan_amnt','funded_amnt_inv'])\n",
    "drop_feature"
   ]
  },
  {
   "attachments": {},
   "cell_type": "markdown",
   "id": "0e52482e",
   "metadata": {},
   "source": [
    "###  loan term"
   ]
  },
  {
   "cell_type": "code",
   "execution_count": null,
   "id": "8b78f339",
   "metadata": {
    "scrolled": true
   },
   "outputs": [],
   "source": [
    "feature_exploration (loan_data,'term',numeric = False)"
   ]
  },
  {
   "cell_type": "code",
   "execution_count": null,
   "id": "6e868d40",
   "metadata": {},
   "outputs": [],
   "source": [
    "#pipe plot of term distribution\n",
    "pie_plot (loan_data,\"term\",title = \"loan_term_distribution\")"
   ]
  },
  {
   "cell_type": "code",
   "execution_count": null,
   "id": "0d798588",
   "metadata": {},
   "outputs": [],
   "source": [
    "Cat_col_vs_default_rate (loan_data,'term','loan_status','loan Term vs Default rates')"
   ]
  },
  {
   "attachments": {},
   "cell_type": "markdown",
   "id": "3b594ba6",
   "metadata": {},
   "source": [
    "* (76%)Most loans issued are 36 months long.\n",
    "* 30 % of 60 montsh are deafults compared 15 % of 36 months loan.\n",
    "* long term loan has higher risk then short term loan."
   ]
  },
  {
   "attachments": {},
   "cell_type": "markdown",
   "id": "50e272f6",
   "metadata": {},
   "source": [
    "### Intrest rate"
   ]
  },
  {
   "cell_type": "code",
   "execution_count": null,
   "id": "94dfabde",
   "metadata": {},
   "outputs": [],
   "source": [
    "feature_exploration (loan_data,\"int_rate\",numeric = True)"
   ]
  },
  {
   "cell_type": "code",
   "execution_count": null,
   "id": "23d40926",
   "metadata": {},
   "outputs": [],
   "source": [
    " box_plot (loan_data,\"int_rate\")"
   ]
  },
  {
   "cell_type": "code",
   "execution_count": null,
   "id": "25013559",
   "metadata": {},
   "outputs": [],
   "source": [
    "dist_plot (loan_data,'int_rate')"
   ]
  },
  {
   "attachments": {},
   "cell_type": "markdown",
   "id": "d9f31b50",
   "metadata": {},
   "source": [
    "* intrest rate ranges from 5 % to 31 %.\n",
    "* Default rate tends to increse as intrest rate increses as expected.\n",
    "* positively skewed.  "
   ]
  },
  {
   "attachments": {},
   "cell_type": "markdown",
   "id": "42f581de",
   "metadata": {},
   "source": [
    "### Loan Grade and Sub-grade"
   ]
  },
  {
   "cell_type": "code",
   "execution_count": null,
   "id": "129b9e71",
   "metadata": {},
   "outputs": [],
   "source": [
    "# loan grad and sub grade\n",
    "print(feature_exploration (loan_data,\"grade\",numeric = False))"
   ]
  },
  {
   "cell_type": "code",
   "execution_count": null,
   "id": "6acd72ec",
   "metadata": {},
   "outputs": [],
   "source": [
    "feature_exploration (loan_data,\"sub_grade\",numeric = False)"
   ]
  },
  {
   "cell_type": "code",
   "execution_count": null,
   "id": "274f5bfe",
   "metadata": {},
   "outputs": [],
   "source": [
    "count_in_order_plot (loan_data,\"sub_grade\",\"Lona_grade_count\",dict(sub_grade= loan_data[\"sub_grade\"].unique().sort_values().to_list()))"
   ]
  },
  {
   "cell_type": "code",
   "execution_count": null,
   "id": "bd2d9f53",
   "metadata": {},
   "outputs": [],
   "source": [
    "pie_plot (loan_data,\"sub_grade\",title = \"loan grade_distribution(%)\")"
   ]
  },
  {
   "cell_type": "code",
   "execution_count": null,
   "id": "f6f79e5c",
   "metadata": {},
   "outputs": [],
   "source": [
    "Cat_col_vs_default_rate (loan_data,'sub_grade','loan_status','Loan sub Grade vs Default rates')"
   ]
  },
  {
   "attachments": {},
   "cell_type": "markdown",
   "id": "d115af76-dd5c-4109-af36-b9dd29dbeb70",
   "metadata": {},
   "source": [
    "* Since loan grade and sub grade imply each other only loan grade will be used.\n",
    "* Most of the loan issued either belongs too grade B or C wich make up to 57% of all loans.\n",
    "* Default rate tends to worsen as the loan grade worsen.\n",
    "* Loan garde E,F,G have more that 30% deafult rate but also verly less loan were issued for those grades"
   ]
  },
  {
   "attachments": {},
   "cell_type": "markdown",
   "id": "be2d9dea-99a2-487c-915c-638f0edb6007",
   "metadata": {},
   "source": [
    "### Installment"
   ]
  },
  {
   "cell_type": "code",
   "execution_count": null,
   "id": "f413ef25",
   "metadata": {},
   "outputs": [],
   "source": [
    "feature_exploration (loan_data,\"installment\",numeric = True)"
   ]
  },
  {
   "cell_type": "code",
   "execution_count": null,
   "id": "aae83cbd",
   "metadata": {},
   "outputs": [],
   "source": [
    "box_plot(loan_data,'installment')"
   ]
  },
  {
   "cell_type": "code",
   "execution_count": null,
   "id": "f9903e4c",
   "metadata": {},
   "outputs": [],
   "source": [
    "dist_plot (loan_data,\"installment\")"
   ]
  },
  {
   "cell_type": "code",
   "execution_count": null,
   "id": "c0a7a0a5",
   "metadata": {},
   "outputs": [],
   "source": [
    "loan_data.groupby('loan_status')['installment'].describe()"
   ]
  },
  {
   "attachments": {},
   "cell_type": "markdown",
   "id": "1349cb73",
   "metadata": {},
   "source": [
    "* instalment range from $ 4 - $ 1720 \n",
    "* distribution is positively skewed \n",
    "* Loans that charge off have $30 higher installments on average."
   ]
  },
  {
   "attachments": {},
   "cell_type": "markdown",
   "id": "ab7ff596",
   "metadata": {},
   "source": [
    "### Employment title"
   ]
  },
  {
   "cell_type": "code",
   "execution_count": null,
   "id": "dace90f1",
   "metadata": {},
   "outputs": [],
   "source": [
    "print(loan_data['emp_title'].describe())\n",
    "print('*'*50)\n",
    "print(loan_data['emp_title'].nunique()) "
   ]
  },
  {
   "cell_type": "code",
   "execution_count": null,
   "id": "dcb92d03-4e5b-4cf9-97c7-3c116ba381c1",
   "metadata": {},
   "outputs": [],
   "source": [
    "drop_feature.append('emp_title')\n",
    "drop_feature"
   ]
  },
  {
   "attachments": {},
   "cell_type": "markdown",
   "id": "d06557fa",
   "metadata": {},
   "source": [
    "* since their are 378358 unique variables feature will be droped "
   ]
  },
  {
   "attachments": {},
   "cell_type": "markdown",
   "id": "5e5d9020",
   "metadata": {},
   "source": [
    "### Employment Length"
   ]
  },
  {
   "cell_type": "code",
   "execution_count": null,
   "id": "13f3b755",
   "metadata": {},
   "outputs": [],
   "source": [
    "feature_exploration(loan_data,'emp_length', numeric = False)"
   ]
  },
  {
   "cell_type": "code",
   "execution_count": null,
   "id": "4851e2c0",
   "metadata": {
    "scrolled": true
   },
   "outputs": [],
   "source": [
    "loan_data['emp_length'].replace(to_replace='10+ years', value='10 years', inplace=True)\n",
    "loan_data['emp_length'].replace('< 1 year', '0 years', inplace=True)\n",
    "\n",
    "def emp_length_to_int(s):\n",
    "    if pd.isnull(s):\n",
    "        return s\n",
    "    else:\n",
    "        return np.int8(s.split()[0])"
   ]
  },
  {
   "cell_type": "code",
   "execution_count": null,
   "id": "d53707eb",
   "metadata": {},
   "outputs": [],
   "source": [
    "loan_data['emp_length'] = loan_data['emp_length'].apply(emp_length_to_int)"
   ]
  },
  {
   "cell_type": "code",
   "execution_count": null,
   "id": "95bbf4cf",
   "metadata": {},
   "outputs": [],
   "source": [
    "count_in_order_plot (loan_data,\"emp_length\",\"Employment_length_count\",dict(emp_length= loan_data[\"emp_length\"].unique().sort_values().to_list()))"
   ]
  },
  {
   "cell_type": "code",
   "execution_count": null,
   "id": "b59b4d8e-6341-4040-b494-73ad0e52a675",
   "metadata": {},
   "outputs": [],
   "source": [
    "pie_plot (loan_data,\"emp_length\",title = \"emp_length_distribution(%)\")"
   ]
  },
  {
   "cell_type": "code",
   "execution_count": null,
   "id": "f748949d-1394-4c6a-a76c-a37c98e8b040",
   "metadata": {},
   "outputs": [],
   "source": [
    "Cat_col_vs_default_rate (loan_data,'emp_length','loan_status','Employment_lenght vs Default_rates')"
   ]
  },
  {
   "attachments": {},
   "cell_type": "markdown",
   "id": "cfc0a091-316d-4909-b986-17f4d537be94",
   "metadata": {},
   "source": [
    "* most of the loan applicants have 10+ years of experience.\n",
    "* this is no significant difference in default rate across employment length hence this feature will be droped"
   ]
  },
  {
   "cell_type": "code",
   "execution_count": null,
   "id": "0f4fc8ca-7e07-4109-b3a6-658211cef617",
   "metadata": {},
   "outputs": [],
   "source": [
    "drop_feature.append('emp_length')\n",
    "drop_feature"
   ]
  },
  {
   "attachments": {},
   "cell_type": "markdown",
   "id": "0e1b07de",
   "metadata": {},
   "source": [
    "* most of the loan applicants have 10 years experiance \n",
    "* applicant their no significant default rate different between all experince levels"
   ]
  },
  {
   "attachments": {},
   "cell_type": "markdown",
   "id": "c8c978bc",
   "metadata": {},
   "source": [
    "### fico_range_high , fico_range_low"
   ]
  },
  {
   "cell_type": "code",
   "execution_count": null,
   "id": "6e1981dd",
   "metadata": {
    "scrolled": true
   },
   "outputs": [],
   "source": [
    "print(loan_data[['fico_range_low','fico_range_high']].describe())\n",
    "print('*'*50)\n",
    "print(loan_data[['fico_range_low','fico_range_high']].corr())"
   ]
  },
  {
   "cell_type": "code",
   "execution_count": null,
   "id": "6b475863",
   "metadata": {},
   "outputs": [],
   "source": [
    "#creating new variable Fico_average\n",
    "loan_data['Fico_average'] = (loan_data['fico_range_low'] + loan_data['fico_range_high'])/2\n",
    "drop_feature.extend(['fico_range_low','fico_range_high'])\n",
    "print(drop_feature)\n",
    "#creting new variable Fico_average\n",
    "print(loan_data['Fico_average'].head())"
   ]
  },
  {
   "cell_type": "code",
   "execution_count": null,
   "id": "cf082733-6e5b-4059-a2a2-8658ba91c79a",
   "metadata": {},
   "outputs": [],
   "source": [
    "feature_exploration(loan_data,'Fico_average',numeric=True)"
   ]
  },
  {
   "cell_type": "code",
   "execution_count": null,
   "id": "29c19c85",
   "metadata": {},
   "outputs": [],
   "source": [
    "box_plot(loan_data,\"Fico_average\")"
   ]
  },
  {
   "cell_type": "code",
   "execution_count": null,
   "id": "58351f4f",
   "metadata": {},
   "outputs": [],
   "source": [
    "dist_plot(loan_data,\"Fico_average\")"
   ]
  },
  {
   "attachments": {},
   "cell_type": "markdown",
   "id": "5be2dc44-84ed-47c4-8f18-b0f29089a3b2",
   "metadata": {},
   "source": [
    "* most the applicant have a Fico score ranging form 660 to 700.\n",
    "* as expexted applicant with higher fico score are more likely pay back the loan.\n",
    "* positively skewed."
   ]
  },
  {
   "attachments": {},
   "cell_type": "markdown",
   "id": "450e6da7",
   "metadata": {},
   "source": [
    "### home_ownership"
   ]
  },
  {
   "cell_type": "code",
   "execution_count": null,
   "id": "54d2695c",
   "metadata": {},
   "outputs": [],
   "source": [
    "feature_exploration (loan_data,'home_ownership',numeric=False)"
   ]
  },
  {
   "cell_type": "code",
   "execution_count": null,
   "id": "17135458",
   "metadata": {},
   "outputs": [],
   "source": [
    "#binning none and any to other\n",
    "loan_data['home_ownership'].replace(['NONE', 'ANY'], 'OTHER', inplace=True)\n",
    "loan_data['home_ownership'].value_counts(dropna=False)"
   ]
  },
  {
   "cell_type": "code",
   "execution_count": null,
   "id": "42e6b77d",
   "metadata": {},
   "outputs": [],
   "source": [
    "count_plot (loan_data,\"home_ownership\",\"Home_ownership\")"
   ]
  },
  {
   "cell_type": "code",
   "execution_count": null,
   "id": "ad52ae30",
   "metadata": {},
   "outputs": [],
   "source": [
    "pie_plot (loan_data,\"home_ownership\",\"Home_ownership(%)\")"
   ]
  },
  {
   "cell_type": "code",
   "execution_count": null,
   "id": "3cc57d15",
   "metadata": {},
   "outputs": [],
   "source": [
    "Cat_col_vs_default_rate (loan_data,'home_ownership','loan_status','Home_ownership vs Default rates')"
   ]
  },
  {
   "attachments": {},
   "cell_type": "markdown",
   "id": "10a79e35-fd71-4774-825f-1f9f0eadaa7e",
   "metadata": {},
   "source": [
    "* most for the loan applicants have mortgage no thier home \n",
    "* applicants with mortgage also have lower default rate compaired ot own and rent \n",
    "* other only consists 0.3% of total loan applicants"
   ]
  },
  {
   "attachments": {},
   "cell_type": "markdown",
   "id": "3263a78f",
   "metadata": {},
   "source": [
    "### Annual_inc"
   ]
  },
  {
   "cell_type": "code",
   "execution_count": null,
   "id": "b227bd0a",
   "metadata": {},
   "outputs": [],
   "source": [
    "feature_exploration (loan_data,'annual_inc',numeric=True)"
   ]
  },
  {
   "cell_type": "code",
   "execution_count": null,
   "id": "871e4b10",
   "metadata": {
    "scrolled": true,
    "tags": []
   },
   "outputs": [],
   "source": [
    "box_plot(loan_data,'annual_inc')"
   ]
  },
  {
   "cell_type": "code",
   "execution_count": null,
   "id": "fefd4d67",
   "metadata": {},
   "outputs": [],
   "source": [
    "annual_inc_less = np.log10(loan_data['annual_inc'][loan_data['annual_inc'] <= 300000]+1)\n",
    "annual_inc = np.log10(loan_data[\"annual_inc\"]+1)\n",
    "\n",
    "fig = make_subplots(\n",
    "    rows=1, cols=2,\n",
    "    subplot_titles=(\"Income < 300000\", \"Income\"))\n",
    "\n",
    "fig.add_trace(go.Histogram(x=annual_inc_less),\n",
    "              row=1, col=1)\n",
    "\n",
    "fig.add_trace(go.Histogram(x=annual_inc),\n",
    "              row=1, col=2)\n",
    "\n",
    "\n",
    "fig.update_layout(title_text=\"Income_distribution\")\n",
    "\n",
    "fig.show()\n"
   ]
  },
  {
   "cell_type": "code",
   "execution_count": null,
   "id": "ea5894f0",
   "metadata": {},
   "outputs": [],
   "source": [
    "print('annual income greater than 1 million',loan_data.loc[loan_data.annual_inc >= 1000000, 'loan_status'].value_counts())\n",
    "print('*'*50)\n",
    "print('annual income greater than 300k',loan_data.loc[loan_data.annual_inc >= 300000, 'loan_status'].value_counts())"
   ]
  },
  {
   "cell_type": "code",
   "execution_count": null,
   "id": "6fe7c3da-15ab-411d-8055-7b16fcbaffbd",
   "metadata": {},
   "outputs": [],
   "source": [
    "fig = px.box( x=np.log10(1+loan_data['annual_inc']),title = 'log_annual_inc')\n",
    "fig.show()"
   ]
  },
  {
   "attachments": {},
   "cell_type": "markdown",
   "id": "029af19a-d00c-4217-8551-a9dcc0839768",
   "metadata": {},
   "source": [
    "### dti"
   ]
  },
  {
   "cell_type": "code",
   "execution_count": null,
   "id": "f855a5f4-c7d7-4be3-8f8a-5689dd1446fb",
   "metadata": {},
   "outputs": [],
   "source": [
    "feature_exploration(loan_data,\"dti\",numeric = True)"
   ]
  },
  {
   "cell_type": "code",
   "execution_count": null,
   "id": "ef09e7af-27d5-4c80-9722-ecbd062efdd5",
   "metadata": {},
   "outputs": [],
   "source": [
    "box_plot(loan_data,\"dti\")"
   ]
  },
  {
   "cell_type": "code",
   "execution_count": null,
   "id": "5131cd2f-24b6-4987-ad44-6127883db378",
   "metadata": {},
   "outputs": [],
   "source": [
    "dist_plot(loan_data,\"dti\")"
   ]
  },
  {
   "cell_type": "code",
   "execution_count": null,
   "id": "732d8c5d-3a0f-41fb-a12a-e99570965558",
   "metadata": {},
   "outputs": [],
   "source": []
  },
  {
   "attachments": {},
   "cell_type": "markdown",
   "id": "f913201e",
   "metadata": {},
   "source": [
    "### verification_status"
   ]
  },
  {
   "cell_type": "code",
   "execution_count": null,
   "id": "1414fe3b",
   "metadata": {},
   "outputs": [],
   "source": [
    "feature_exploration (loan_data,'verification_status',numeric=False)"
   ]
  },
  {
   "cell_type": "code",
   "execution_count": null,
   "id": "346aa43b",
   "metadata": {},
   "outputs": [],
   "source": [
    "count_plot (loan_data,\"verification_status\",\"verification_status\")"
   ]
  },
  {
   "cell_type": "code",
   "execution_count": null,
   "id": "4fe4ee62",
   "metadata": {},
   "outputs": [],
   "source": [
    "pie_plot (loan_data,\"verification_status\",\"verification_status(%)\")"
   ]
  },
  {
   "cell_type": "code",
   "execution_count": null,
   "id": "0d71791f",
   "metadata": {},
   "outputs": [],
   "source": [
    "Cat_col_vs_default_rate (loan_data,'verification_status','loan_status','verification_status vs Default rates')"
   ]
  },
  {
   "attachments": {},
   "cell_type": "markdown",
   "id": "25a727f4",
   "metadata": {},
   "source": [
    "### Loan Purpose , Title"
   ]
  },
  {
   "cell_type": "code",
   "execution_count": null,
   "id": "ce9081f4",
   "metadata": {},
   "outputs": [],
   "source": [
    "feature_exploration (loan_data,'purpose',numeric=False)"
   ]
  },
  {
   "cell_type": "code",
   "execution_count": null,
   "id": "1761eb28",
   "metadata": {},
   "outputs": [],
   "source": [
    "print('Description:\\n{}'.format(loan_data[\"title\"].describe()))\n",
    "print('*'*50)\n",
    "print('Value count:\\n{}'.format(loan_data[\"title\"].value_counts().head(10)))\n",
    "print('*'*50)\n",
    "print('df_length:\\n{}'.format(len(loan_data['title'])))"
   ]
  },
  {
   "cell_type": "code",
   "execution_count": null,
   "id": "50ca497e",
   "metadata": {},
   "outputs": [],
   "source": [
    "count_plot (loan_data,'purpose',\"Loan_purpose\")"
   ]
  },
  {
   "cell_type": "code",
   "execution_count": null,
   "id": "980d36fb",
   "metadata": {},
   "outputs": [],
   "source": [
    "pie_plot (loan_data,\"purpose\",\"Loan purpose(%)\")"
   ]
  },
  {
   "cell_type": "code",
   "execution_count": null,
   "id": "15387b39",
   "metadata": {},
   "outputs": [],
   "source": [
    "Cat_col_vs_default_rate (loan_data,'purpose','loan_status','Purpose vs Default rates')"
   ]
  },
  {
   "attachments": {},
   "cell_type": "markdown",
   "id": "799984d7",
   "metadata": {},
   "source": [
    "### addr_state,zip code"
   ]
  },
  {
   "cell_type": "code",
   "execution_count": null,
   "id": "4768b827",
   "metadata": {},
   "outputs": [],
   "source": []
  },
  {
   "cell_type": "code",
   "execution_count": null,
   "id": "c9285966",
   "metadata": {},
   "outputs": [],
   "source": [
    "## Bining US states into Regions for better  understanding\n",
    "west = ['CA', 'OR', 'UT','WA', 'CO', 'NV', 'AK', 'MT', 'HI', 'WY', 'ID']\n",
    "south_west = ['AZ', 'TX', 'NM', 'OK']\n",
    "south_east = ['GA', 'NC', 'VA', 'FL', 'KY', 'SC', 'LA', 'AL', 'WV', 'DC', 'AR', 'DE', 'MS', 'TN' ]\n",
    "mid_west = ['IL', 'MO', 'MN', 'OH', 'WI', 'KS', 'MI', 'SD', 'IA', 'NE', 'IN', 'ND']\n",
    "north_east = ['CT', 'NY', 'PA', 'NJ', 'RI','MA', 'MD', 'VT', 'NH', 'ME']\n",
    "\n",
    "\n",
    "\n",
    "loan_data['region'] = np.nan\n",
    "\n",
    "def finding_regions(state):\n",
    "    if state in west:\n",
    "        return 'West'\n",
    "    elif state in south_west:\n",
    "        return 'SouthWest'\n",
    "    elif state in south_east:\n",
    "        return 'SouthEast'\n",
    "    elif state in mid_west:\n",
    "        return 'MidWest'\n",
    "    elif state in north_east:\n",
    "        return 'NorthEast'\n",
    "    \n",
    "\n",
    "\n",
    "loan_data['region'] = loan_data['addr_state'].apply(finding_regions)"
   ]
  },
  {
   "cell_type": "code",
   "execution_count": null,
   "id": "e4f4f9c1",
   "metadata": {},
   "outputs": [],
   "source": [
    "feature_exploration (loan_data,'region',numeric=False)"
   ]
  },
  {
   "cell_type": "code",
   "execution_count": null,
   "id": "fa58a73d-c1f6-499c-a14a-b2066bf08e33",
   "metadata": {},
   "outputs": [],
   "source": [
    "count_plot(loan_data,\"region\",\"US_state_regions\")"
   ]
  },
  {
   "cell_type": "code",
   "execution_count": null,
   "id": "6ca6ad55-99b5-4573-8202-2b45e609d8b9",
   "metadata": {},
   "outputs": [],
   "source": [
    "pie_plot(loan_data,'region','US_state_regions(%)')"
   ]
  },
  {
   "cell_type": "code",
   "execution_count": null,
   "id": "fe8f9826-c893-4545-a153-a684d00ad382",
   "metadata": {},
   "outputs": [],
   "source": [
    "Cat_col_vs_default_rate (loan_data,'region','loan_status','US_state_regions vs Default rate(%)')"
   ]
  },
  {
   "attachments": {},
   "cell_type": "markdown",
   "id": "3a617152-68da-4a08-852d-6884e5e3142b",
   "metadata": {},
   "source": [
    "### open_acc"
   ]
  },
  {
   "cell_type": "code",
   "execution_count": null,
   "id": "71261d5d-97d9-4f79-b43a-e079d3427ca8",
   "metadata": {},
   "outputs": [],
   "source": [
    "feature_exploration (loan_data,'open_acc',numeric=True)"
   ]
  },
  {
   "cell_type": "code",
   "execution_count": null,
   "id": "b1322798-ad4d-4539-97dd-c65362ac2cd2",
   "metadata": {},
   "outputs": [],
   "source": [
    "box_plot(loan_data,'open_acc')"
   ]
  },
  {
   "cell_type": "code",
   "execution_count": null,
   "id": "0b99b63c-1fe5-489b-9563-115fa9899d13",
   "metadata": {},
   "outputs": [],
   "source": [
    "dist_plot(loan_data,\"open_acc\")"
   ]
  },
  {
   "cell_type": "code",
   "execution_count": null,
   "id": "33884e92-3852-4d9a-8c4e-71476c855b64",
   "metadata": {},
   "outputs": [],
   "source": []
  },
  {
   "attachments": {},
   "cell_type": "markdown",
   "id": "aadd08c5-4290-4e6e-a369-ec10d03f7b5c",
   "metadata": {},
   "source": [
    "### revol_bal"
   ]
  },
  {
   "cell_type": "code",
   "execution_count": null,
   "id": "955efd4e-380e-4f72-a846-46a9b61a55ab",
   "metadata": {},
   "outputs": [],
   "source": [
    "feature_exploration(loan_data,\"revol_bal\",numeric = True)"
   ]
  },
  {
   "cell_type": "code",
   "execution_count": null,
   "id": "3ca3b2f3-ffd6-4d9e-bcf0-1d1b05ca0b50",
   "metadata": {},
   "outputs": [],
   "source": [
    "box_plot(loan_data,'revol_bal')"
   ]
  },
  {
   "cell_type": "code",
   "execution_count": null,
   "id": "3357a5c2-1678-4ce2-9198-6884625d67ae",
   "metadata": {},
   "outputs": [],
   "source": [
    "dist_plot(loan_data,'revol_bal') "
   ]
  },
  {
   "cell_type": "code",
   "execution_count": null,
   "id": "071ceb19-1585-48ec-9db8-da97a73033c1",
   "metadata": {},
   "outputs": [],
   "source": []
  },
  {
   "attachments": {},
   "cell_type": "markdown",
   "id": "dad9fd24-049f-40c7-8a18-47b7fef81a83",
   "metadata": {},
   "source": [
    "### total_acc"
   ]
  },
  {
   "cell_type": "code",
   "execution_count": null,
   "id": "755bf646-e454-44ec-84ca-0c756ab197ee",
   "metadata": {},
   "outputs": [],
   "source": [
    "feature_exploration(loan_data,'total_acc',numeric = True)"
   ]
  },
  {
   "cell_type": "code",
   "execution_count": null,
   "id": "fa4c903b-f1cc-4cf8-ac3c-0c03fc30b411",
   "metadata": {},
   "outputs": [],
   "source": [
    "box_plot(loan_data,'total_acc')"
   ]
  },
  {
   "cell_type": "code",
   "execution_count": null,
   "id": "9d8c314b-0ace-474f-a859-bd7f9420abe6",
   "metadata": {},
   "outputs": [],
   "source": [
    "dist_plot(loan_data,'total_acc')"
   ]
  },
  {
   "cell_type": "code",
   "execution_count": null,
   "id": "c97078be-48b9-4f17-9107-3d6455f8a377",
   "metadata": {},
   "outputs": [],
   "source": []
  },
  {
   "attachments": {},
   "cell_type": "markdown",
   "id": "c3489182-48e0-4e50-9eee-a306919ecb58",
   "metadata": {},
   "source": [
    "### revol_util"
   ]
  },
  {
   "cell_type": "code",
   "execution_count": null,
   "id": "4f1091df-5c65-411d-b33d-05e9e2805cf1",
   "metadata": {},
   "outputs": [],
   "source": [
    "feature_exploration(loan_data,'revol_util',numeric = True)"
   ]
  },
  {
   "cell_type": "code",
   "execution_count": null,
   "id": "f8217482-f80d-4df9-8cb1-cb902657fe8a",
   "metadata": {},
   "outputs": [],
   "source": [
    "box_plot(loan_data,'revol_util')"
   ]
  },
  {
   "cell_type": "code",
   "execution_count": null,
   "id": "a8b00cc7-9938-43ea-be19-a50d9cf069e2",
   "metadata": {},
   "outputs": [],
   "source": [
    "dist_plot(loan_data,'revol_util')"
   ]
  },
  {
   "cell_type": "code",
   "execution_count": null,
   "id": "73eba6bc-09aa-4a2f-9227-8ca0ef2fb6b8",
   "metadata": {},
   "outputs": [],
   "source": []
  },
  {
   "attachments": {},
   "cell_type": "markdown",
   "id": "ea3e30e9-82b3-4664-a6be-c1f50e14a860",
   "metadata": {},
   "source": [
    "### initial_list_status"
   ]
  },
  {
   "cell_type": "code",
   "execution_count": null,
   "id": "42202720-3376-4847-8071-d51b7fde9c41",
   "metadata": {},
   "outputs": [],
   "source": [
    "feature_exploration(loan_data,'initial_list_status',numeric = False)"
   ]
  },
  {
   "cell_type": "code",
   "execution_count": null,
   "id": "91c7d05b-6cf4-4c90-8d91-99b9c76065d4",
   "metadata": {},
   "outputs": [],
   "source": [
    "count_plot(loan_data,\"initial_list_status\",\"initial_list_status\")"
   ]
  },
  {
   "cell_type": "code",
   "execution_count": null,
   "id": "1c1cc16c-7f05-413f-809f-1130ef5f6eda",
   "metadata": {},
   "outputs": [],
   "source": [
    "pie_plot (loan_data,\"initial_list_status\",\"Initial list status(%)\")"
   ]
  },
  {
   "cell_type": "code",
   "execution_count": null,
   "id": "af6bafea-8a30-4efa-99ab-e1d306664b07",
   "metadata": {},
   "outputs": [],
   "source": [
    "Cat_col_vs_default_rate(loan_data,\"initial_list_status\",'loan_status',\"Initial list status vs Default rate(%)\")"
   ]
  },
  {
   "cell_type": "code",
   "execution_count": null,
   "id": "17f32463-a715-4168-9ba9-5d146636d03b",
   "metadata": {},
   "outputs": [],
   "source": []
  },
  {
   "attachments": {},
   "cell_type": "markdown",
   "id": "6f5c2817-8d38-4fb3-b43e-bf2796a4732e",
   "metadata": {},
   "source": [
    "### application_type"
   ]
  },
  {
   "cell_type": "code",
   "execution_count": null,
   "id": "93ec8f6a-f6fc-4bcb-bf3c-a8b1623ea03c",
   "metadata": {},
   "outputs": [],
   "source": [
    "feature_exploration (loan_data,\"application_type\",numeric = False)"
   ]
  },
  {
   "cell_type": "code",
   "execution_count": null,
   "id": "1a8cad7e-ed43-4875-b200-403067400388",
   "metadata": {},
   "outputs": [],
   "source": [
    "count_plot(loan_data,'application_type','Application type')"
   ]
  },
  {
   "cell_type": "code",
   "execution_count": null,
   "id": "eddc3ac8-9472-4591-8915-a6f7cdeecb92",
   "metadata": {},
   "outputs": [],
   "source": [
    "pie_plot(loan_data,'application_type','Application type(%)')"
   ]
  },
  {
   "cell_type": "code",
   "execution_count": null,
   "id": "47c913bc-ba5d-40f0-8a60-8cef40412834",
   "metadata": {},
   "outputs": [],
   "source": [
    "Cat_col_vs_default_rate (loan_data,'application_type','loan_status','Application type vs Default rate(%)')"
   ]
  },
  {
   "attachments": {},
   "cell_type": "markdown",
   "id": "7f9c9645-7519-488e-aee4-b353900ee64b",
   "metadata": {},
   "source": [
    "### mort_acc\n"
   ]
  },
  {
   "cell_type": "code",
   "execution_count": null,
   "id": "4641e968-57a7-435a-b775-c0d0585fd36e",
   "metadata": {},
   "outputs": [],
   "source": [
    "feature_exploration(loan_data,'mort_acc',numeric = True)"
   ]
  },
  {
   "cell_type": "code",
   "execution_count": null,
   "id": "6f580ca5-1036-4f50-a1de-41fda1b784f0",
   "metadata": {},
   "outputs": [],
   "source": [
    "box_plot(loan_data,'mort_acc')"
   ]
  },
  {
   "cell_type": "code",
   "execution_count": null,
   "id": "3d912e95-7113-46a5-a033-e3c7dbbf6674",
   "metadata": {},
   "outputs": [],
   "source": [
    "dist_plot(loan_data,'mort_acc')"
   ]
  },
  {
   "cell_type": "code",
   "execution_count": null,
   "id": "119d4d2f-bce9-4d33-ae7e-f013f7137a2d",
   "metadata": {},
   "outputs": [],
   "source": []
  },
  {
   "attachments": {},
   "cell_type": "markdown",
   "id": "5af4fa5a-1c38-4d64-bfe8-aeda0e1a9c59",
   "metadata": {},
   "source": [
    "### pub_rec_bankruptcies"
   ]
  },
  {
   "cell_type": "code",
   "execution_count": null,
   "id": "3c8efc64-8ac9-4213-88a4-2a3137876a29",
   "metadata": {},
   "outputs": [],
   "source": [
    "feature_exploration(loan_data,'pub_rec_bankruptcies',numeric = False)"
   ]
  },
  {
   "cell_type": "code",
   "execution_count": null,
   "id": "53b5dd86-b1dd-4999-b418-a49b18f209b8",
   "metadata": {},
   "outputs": [],
   "source": [
    "box_plot(loan_data,'pub_rec_bankruptcies')"
   ]
  },
  {
   "cell_type": "code",
   "execution_count": null,
   "id": "170c205c-06a7-4560-b569-e90beb3f5d67",
   "metadata": {},
   "outputs": [],
   "source": [
    "dist_plot(loan_data,'pub_rec_bankruptcies')"
   ]
  },
  {
   "cell_type": "code",
   "execution_count": null,
   "id": "738bbf47-0d57-4c8d-95e0-e49e15b066d2",
   "metadata": {},
   "outputs": [],
   "source": []
  },
  {
   "attachments": {},
   "cell_type": "markdown",
   "id": "c7b88b84-d5cc-405b-ac8a-297929dc83a1",
   "metadata": {},
   "source": [
    "## Bivariate analysis"
   ]
  },
  {
   "cell_type": "code",
   "execution_count": null,
   "id": "26970595-6382-4478-acce-1b43fe0caf8d",
   "metadata": {},
   "outputs": [],
   "source": [
    "# converting target column to int check corelation \n",
    "loan_data[\"status_int\"] = loan_data[\"loan_status\"].apply(lambda x: 0 \n",
    "                                                          if x ==\"Default\"\n",
    "                                                          else 1)\n",
    "cor = loan_data.corr().round(2)\n",
    "mask = np.triu(np.ones_like(cor, dtype=bool))"
   ]
  },
  {
   "cell_type": "code",
   "execution_count": null,
   "id": "3d7d4587-dadf-435a-9fcf-8aa204a49cd2",
   "metadata": {},
   "outputs": [],
   "source": [
    "fig = px.imshow(cor.mask(mask),text_auto=True, \n",
    "                aspect=\"auto\",zmin=-1,zmax=1)\n",
    "fig.update_layout(title = \"Pearson co-relation\",width=1100,height=500,)\n",
    "fig.show()"
   ]
  },
  {
   "attachments": {},
   "cell_type": "markdown",
   "id": "4f65b805-e250-4da0-8d99-61847f274ae2",
   "metadata": {},
   "source": [
    "* Fico range is positively co-related to traget and int-rate is negatively co-related to traget.\n",
    "* thier no other variable co-related to target \n",
    "* loan_amnt,funded_amnt_inv and funded_amnt are higely co-related to each outher\n",
    "* fico_range,revol_util is negatively co-realte int-rate "
   ]
  },
  {
   "cell_type": "code",
   "execution_count": null,
   "id": "b3a3440b-4fd2-4511-92c2-dbb5c90f5931",
   "metadata": {},
   "outputs": [],
   "source": [
    "loan_data['issue_d'].info()\n",
    "dt_series = pd.to_datetime(loan_data['issue_d'])\n",
    "loan_data['year'] = dt_series.dt.year\n",
    "loan_data['month'] = dt_series.dt.month"
   ]
  },
  {
   "cell_type": "code",
   "execution_count": null,
   "id": "524e9c16-7a37-41b6-9ce6-3bb8bcf0613c",
   "metadata": {},
   "outputs": [],
   "source": [
    "#fig = px.bar(loan_data, x=\"year\", y=\"loan_amnt\", color=\"month\",\n",
    "             #text=\"nation\",barmode=\"grouped\")\n",
    "#fig.show()\n",
    "plt.figure(figsize=(24,12))\n",
    "sns.barplot(data=loan_data,\n",
    "            x=\"year\", y=\"loan_amnt\",dodge=False)\n"
   ]
  },
  {
   "attachments": {},
   "cell_type": "markdown",
   "id": "dd7eaf5c-93eb-4cc5-adc7-2b08eebeac25",
   "metadata": {},
   "source": [
    "# loan issued by regions"
   ]
  },
  {
   "cell_type": "code",
   "execution_count": null,
   "id": "47ce9bec-e1a2-4d05-ac71-af734b85417a",
   "metadata": {},
   "outputs": [],
   "source": [
    "#sorting data frame by issue date co"
   ]
  },
  {
   "cell_type": "code",
   "execution_count": null,
   "id": "713d119e-52ff-40c5-8773-9304a721f40b",
   "metadata": {},
   "outputs": [],
   "source": []
  },
  {
   "cell_type": "code",
   "execution_count": null,
   "id": "757ba679-ad91-492b-9481-b8e14252b436",
   "metadata": {},
   "outputs": [],
   "source": [
    "cat_coll = loan_data.drop(['issue_d','title','zip_code','earliest_cr_line','addr_state','grade','emp_title'],axis=1).select_dtypes(exclude=np.number).columns.to_list()"
   ]
  },
  {
   "cell_type": "code",
   "execution_count": null,
   "id": "c0799578-48a6-46e6-b044-28ee23cb629c",
   "metadata": {},
   "outputs": [],
   "source": [
    "fig = plt.figure(figsize=(15,30),dpi=180)\n",
    "fig.tight_layout()\n",
    "for n, cat_feat in enumerate(cat_coll) :\n",
    "    ax = plt.subplot(5, 2,n+1)\n",
    "    sns.boxplot(ax=ax,x=loan_data[cat_feat],y=loan_data['loan_amnt'])\n",
    "    ax.set_title(cat_feat + \" vs loan_data\")\n",
    "    plt.xticks(rotation=45,ha='right')\n",
    "    plt.ylabel('Loan')"
   ]
  },
  {
   "cell_type": "code",
   "execution_count": null,
   "id": "d70f8c1c-a3ce-4c9e-aa97-8503a9ed5f1d",
   "metadata": {},
   "outputs": [],
   "source": [
    "fig = plt.figure(figsize=(15,30),dpi=180)\n",
    "fig.tight_layout()\n",
    "for n, cat_feat in enumerate(cat_coll) :\n",
    "    ax = plt.subplot(5, 2,n+1)\n",
    "    sns.boxplot(ax=ax,x=loan_data[cat_feat],y=loan_data['log_annual_inc'])\n",
    "    ax.set_title(cat_feat + \" vs Income\")\n",
    "    plt.xticks(rotation=45,ha='right')\n",
    "    plt.ylabel('Income')"
   ]
  },
  {
   "cell_type": "code",
   "execution_count": null,
   "id": "18b765ac-f8a4-4fae-8f0b-e83427f08e94",
   "metadata": {},
   "outputs": [],
   "source": [
    "fig = plt.figure(figsize=(15,30),dpi=180)\n",
    "fig.tight_layout()\n",
    "for n, cat_feat in enumerate(cat_coll) :\n",
    "    ax = plt.subplot(5, 2,n+1)\n",
    "    sns.boxplot(ax=ax,x=loan_data[cat_feat],y=loan_data['dti'].apply(lambda x: np.log10(x+1)))\n",
    "    ax.set_title(cat_feat + \" vs DTI\")\n",
    "    plt.xticks(rotation=45,ha='right')\n",
    "    plt.ylabel('DTI')\n"
   ]
  },
  {
   "cell_type": "code",
   "execution_count": null,
   "id": "3052f8bf-a08d-4675-8b48-b5b049918805",
   "metadata": {},
   "outputs": [],
   "source": [
    "fig = plt.figure(figsize=(15,30),dpi=180)\n",
    "fig.tight_layout()\n",
    "for n, cat_feat in enumerate(cat_coll) :\n",
    "    ax = plt.subplot(5, 2,n+1)\n",
    "    sns.boxplot(ax=ax,x=loan_data[cat_feat],y=loan_data['Fico_average'])\n",
    "    ax.set_title(cat_feat + \" vs Fico\") \n",
    "    plt.xticks(rotation=45,ha='right')\n",
    "    plt.ylabel('Fico')"
   ]
  },
  {
   "cell_type": "code",
   "execution_count": null,
   "id": "000b45ad-ede7-47de-a4ac-d81e59cc9c43",
   "metadata": {},
   "outputs": [],
   "source": [
    "loan_data.info()"
   ]
  }
 ],
 "metadata": {
  "kernelspec": {
   "display_name": "Python 3 (ipykernel)",
   "language": "python",
   "name": "python3"
  },
  "language_info": {
   "codemirror_mode": {
    "name": "ipython",
    "version": 3
   },
   "file_extension": ".py",
   "mimetype": "text/x-python",
   "name": "python",
   "nbconvert_exporter": "python",
   "pygments_lexer": "ipython3",
   "version": "3.10.6"
  },
  "toc-autonumbering": false,
  "toc-showmarkdowntxt": false,
  "toc-showtags": false,
  "vscode": {
   "interpreter": {
    "hash": "62c627645c65f3ba9a81a178261d4912649f95ff801ed936422fe9a9adb27b40"
   }
  }
 },
 "nbformat": 4,
 "nbformat_minor": 5
}
